{
 "cells": [
  {
   "cell_type": "code",
   "execution_count": 39,
   "id": "c883b3fe",
   "metadata": {},
   "outputs": [],
   "source": [
    "import pandas as pd\n",
    "import numpy as np\n",
    "import matplotlib.pyplot as plt\n"
   ]
  },
  {
   "cell_type": "code",
   "execution_count": 40,
   "id": "016553d2",
   "metadata": {},
   "outputs": [
    {
     "data": {
      "text/html": [
       "<div>\n",
       "<style scoped>\n",
       "    .dataframe tbody tr th:only-of-type {\n",
       "        vertical-align: middle;\n",
       "    }\n",
       "\n",
       "    .dataframe tbody tr th {\n",
       "        vertical-align: top;\n",
       "    }\n",
       "\n",
       "    .dataframe thead th {\n",
       "        text-align: right;\n",
       "    }\n",
       "</style>\n",
       "<table border=\"1\" class=\"dataframe\">\n",
       "  <thead>\n",
       "    <tr style=\"text-align: right;\">\n",
       "      <th></th>\n",
       "      <th>Week</th>\n",
       "      <th>Series</th>\n",
       "      <th>Episode</th>\n",
       "      <th>Label</th>\n",
       "    </tr>\n",
       "  </thead>\n",
       "  <tbody>\n",
       "    <tr>\n",
       "      <th>0</th>\n",
       "      <td>Cakes</td>\n",
       "      <td>1</td>\n",
       "      <td>1</td>\n",
       "      <td>NaN</td>\n",
       "    </tr>\n",
       "    <tr>\n",
       "      <th>1</th>\n",
       "      <td>Biscuits</td>\n",
       "      <td>1</td>\n",
       "      <td>2</td>\n",
       "      <td>NaN</td>\n",
       "    </tr>\n",
       "    <tr>\n",
       "      <th>2</th>\n",
       "      <td>Bread</td>\n",
       "      <td>1</td>\n",
       "      <td>3</td>\n",
       "      <td>NaN</td>\n",
       "    </tr>\n",
       "    <tr>\n",
       "      <th>3</th>\n",
       "      <td>Puddings</td>\n",
       "      <td>1</td>\n",
       "      <td>4</td>\n",
       "      <td>Quarter-Final</td>\n",
       "    </tr>\n",
       "    <tr>\n",
       "      <th>4</th>\n",
       "      <td>Pastry</td>\n",
       "      <td>1</td>\n",
       "      <td>5</td>\n",
       "      <td>Semi-Final</td>\n",
       "    </tr>\n",
       "  </tbody>\n",
       "</table>\n",
       "</div>"
      ],
      "text/plain": [
       "       Week  Series  Episode          Label\n",
       "0     Cakes       1        1            NaN\n",
       "1  Biscuits       1        2            NaN\n",
       "2     Bread       1        3            NaN\n",
       "3  Puddings       1        4  Quarter-Final\n",
       "4    Pastry       1        5     Semi-Final"
      ]
     },
     "execution_count": 40,
     "metadata": {},
     "output_type": "execute_result"
    }
   ],
   "source": [
    "df = pd.read_csv('bake-off-weeks.csv')\n",
    "df.head()"
   ]
  },
  {
   "cell_type": "code",
   "execution_count": 41,
   "id": "a8899e16",
   "metadata": {},
   "outputs": [
    {
     "name": "stdout",
     "output_type": "stream",
     "text": [
      "<pandas.core.groupby.generic.DataFrameGroupBy object at 0x10f217950>\n",
      "Week\n",
      "Cakes                      16\n",
      "Bread                      16\n",
      "Biscuits                   15\n",
      "Pastry                     14\n",
      "Desserts                   14\n",
      "Final                      13\n",
      "Patisserie                 13\n",
      "Chocolate                   4\n",
      "Caramel                     3\n",
      "Puddings                    3\n",
      "Botanical                   2\n",
      "Sweet Dough                 2\n",
      "Pies                        2\n",
      "Alternative Ingredients     2\n",
      "Tarts                       2\n",
      "Pies and Tarts              2\n",
      "Japanese                    1\n",
      "80s                         1\n",
      "German                      1\n",
      "Free-from                   1\n",
      "Festivals                   1\n",
      "Autumn                      1\n",
      "Mexican                     1\n",
      "Halloween                   1\n",
      "Custard                     1\n",
      "Party                       1\n",
      "Dairy                       1\n",
      "70s                         1\n",
      "Back to School              1\n",
      "Roaring 20s                 1\n",
      "Tudor                       1\n",
      "Danish                      1\n",
      "Vegan                       1\n",
      "Spice                       1\n",
      "Forgotten Bakes             1\n",
      "Italian                     1\n",
      "Royal Picnic (Final)        1\n",
      "Batter                      1\n",
      "Victorian                   1\n",
      "Advanced Dough              1\n",
      "European Cakes              1\n",
      "French                      1\n",
      "Biscuits and Traybakes      1\n",
      "Tea Party (Final)           1\n",
      "Meringue                    1\n",
      "Name: count, dtype: int64\n"
     ]
    }
   ],
   "source": [
    "# groub by week\n",
    "df_grouped = df.groupby('Week')\n",
    "print(df_grouped)\n",
    "\n",
    "# find most common themes\n",
    "themes = df['Week'].value_counts()\n",
    "print(themes)"
   ]
  },
  {
   "cell_type": "code",
   "execution_count": 42,
   "id": "dcd1f31c",
   "metadata": {},
   "outputs": [
    {
     "name": "stdout",
     "output_type": "stream",
     "text": [
      "         Week  Series  Episode          Label\n",
      "1    Biscuits       1        2            NaN\n",
      "9    Biscuits       2        4            NaN\n",
      "21   Biscuits       3        8  Quarter-Final\n",
      "35   Biscuits       5        2            NaN\n",
      "45   Biscuits       6        2            NaN\n",
      "55   Biscuits       7        2            NaN\n",
      "65   Biscuits       8        2            NaN\n",
      "74   Biscuits       9        1            NaN\n",
      "85   Biscuits      10        2            NaN\n",
      "95   Biscuits      11        2            NaN\n",
      "105  Biscuits      12        2            NaN\n",
      "115  Biscuits      13        2            NaN\n",
      "125  Biscuits      14        2            NaN\n",
      "135  Biscuits      15        2            NaN\n",
      "145  Biscuits      16        2            NaN\n",
      "[4]\n"
     ]
    }
   ],
   "source": [
    "# what series didn't have biscuits?\n",
    "# find rows where week is biscuits\n",
    "biscuits = df[df['Week'] == 'Biscuits']\n",
    "print(biscuits)\n",
    "\n",
    "series = df['Series']\n",
    "no_biscuits = series[~series.isin(biscuits['Series'])]\n",
    "print(no_biscuits.unique())"
   ]
  },
  {
   "cell_type": "code",
   "execution_count": 43,
   "id": "a733a51b",
   "metadata": {},
   "outputs": [
    {
     "name": "stdout",
     "output_type": "stream",
     "text": [
      "\n",
      "Most common consecutive week pairs:\n",
      "Cakes → Biscuits: 12 times\n",
      "Biscuits → Bread: 12 times\n",
      "Patisserie → Final: 11 times\n",
      "Bread → Desserts: 5 times\n",
      "Cakes → Bread: 3 times\n",
      "Chocolate → Pastry: 3 times\n",
      "Puddings → Pastry: 2 times\n",
      "Desserts → Patisserie: 2 times\n",
      "Desserts → Pies and Tarts: 2 times\n",
      "Pastry → Botanical: 2 times\n"
     ]
    }
   ],
   "source": [
    "# Create a list of week sequences per series\n",
    "series_orders = df.sort_values(['Series', 'Episode']).groupby('Series')['Week'].apply(list)\n",
    "\n",
    "# Count common sequences or pairs\n",
    "from collections import Counter\n",
    "pairs = Counter()\n",
    "\n",
    "for seq in series_orders:\n",
    "    for a, b in zip(seq, seq[1:]):\n",
    "        pairs[(a, b)] += 1\n",
    "\n",
    "print(\"\\nMost common consecutive week pairs:\")\n",
    "for (a, b), c in pairs.most_common(10):\n",
    "    if c > 1:\n",
    "        print(f\"{a} → {b}: {c} times\")\n",
    "\n",
    "    "
   ]
  },
  {
   "cell_type": "code",
   "execution_count": 44,
   "id": "34250b3f",
   "metadata": {},
   "outputs": [
    {
     "name": "stdout",
     "output_type": "stream",
     "text": [
      "\n",
      "Most common consecutive week triples:\n",
      "Cakes → Biscuits → Bread: 12 times\n",
      "Biscuits → Bread → Desserts: 3 times\n",
      "Desserts → Patisserie → Final: 2 times\n",
      "Cakes → Bread → Desserts: 2 times\n",
      "Bread → Desserts → Pies and Tarts: 2 times\n",
      "Pastry → Botanical → Desserts: 2 times\n",
      "Biscuits → Bread → Caramel: 2 times\n",
      "Pastry → Patisserie → Final: 2 times\n",
      "Biscuits → Bread → Chocolate: 2 times\n",
      "Bread → Chocolate → Pastry: 2 times\n"
     ]
    }
   ],
   "source": [
    "\n",
    "# any triples?\n",
    "triples = Counter()\n",
    "for seq in series_orders:\n",
    "    for a, b, c in zip(seq, seq[1:], seq[2:]):\n",
    "        triples[(a, b, c)] += 1\n",
    "print(\"\\nMost common consecutive week triples:\")\n",
    "for (a, b, c), count in triples.most_common(10):\n",
    "    if count > 1:\n",
    "        print(f\"{a} → {b} → {c}: {count} times\")"
   ]
  },
  {
   "cell_type": "code",
   "execution_count": 45,
   "id": "45e035c0",
   "metadata": {},
   "outputs": [
    {
     "name": "stdout",
     "output_type": "stream",
     "text": [
      "\n",
      "Series numbers with Cakes → Biscuits → Bread:\n",
      "1\n",
      "5\n",
      "6\n",
      "7\n",
      "8\n",
      "10\n",
      "11\n",
      "12\n",
      "13\n",
      "14\n",
      "15\n",
      "16\n",
      "\n",
      "Series numbers without Cakes → Biscuits → Bread:\n",
      "2\n",
      "3\n",
      "4\n",
      "9\n"
     ]
    }
   ],
   "source": [
    "\n",
    "# print only the series number\n",
    "print(\"\\nSeries numbers with Cakes → Biscuits → Bread:\")\n",
    "for series, seq in series_orders.items():\n",
    "    for a, b, c in zip(seq, seq[1:], seq[2:]):\n",
    "        if (a, b, c) == ('Cakes', 'Biscuits', 'Bread'):\n",
    "            print(series)\n",
    "\n",
    "# print without\n",
    "print(\"\\nSeries numbers without Cakes → Biscuits → Bread:\")\n",
    "for series, seq in series_orders.items():\n",
    "    for a, b, c in zip(seq, seq[1:], seq[2:]):\n",
    "        if (a, b, c) == ('Cakes', 'Biscuits', 'Bread'):\n",
    "            break\n",
    "    else:\n",
    "        print(series)"
   ]
  },
  {
   "cell_type": "code",
   "execution_count": 46,
   "id": "27fab558",
   "metadata": {},
   "outputs": [
    {
     "name": "stdout",
     "output_type": "stream",
     "text": [
      "\n",
      "Most common consecutive week quadruples:\n",
      "Cakes → Biscuits → Bread → Desserts: 3 times\n",
      "Cakes → Biscuits → Bread → Caramel: 2 times\n",
      "Cakes → Biscuits → Bread → Chocolate: 2 times\n",
      "Biscuits → Bread → Chocolate → Pastry: 2 times\n"
     ]
    }
   ],
   "source": [
    "# quadruples?\n",
    "quadruples = Counter()\n",
    "for seq in series_orders:\n",
    "    for a, b, c, d in zip(seq, seq[1:], seq[2:], seq[3:]):\n",
    "        quadruples[(a, b, c, d)] += 1\n",
    "print(\"\\nMost common consecutive week quadruples:\")\n",
    "for (a, b, c, d), count in quadruples.most_common(10\n",
    " ):\n",
    "    if count > 1:\n",
    "        print(f\"{a} → {b} → {c} → {d}: {count} times\")"
   ]
  },
  {
   "cell_type": "code",
   "execution_count": 47,
   "id": "ae9ff7d0",
   "metadata": {},
   "outputs": [
    {
     "name": "stdout",
     "output_type": "stream",
     "text": [
      "\n",
      "Most common week theme by episode number:\n",
      "Episode 1: Cakes\n",
      "Episode 2: Biscuits\n",
      "Episode 3: Bread\n",
      "Episode 4: Desserts\n",
      "Episode 5: Pastry\n",
      "Episode 6: Pastry\n",
      "Episode 7: Desserts\n",
      "Episode 8: Desserts\n",
      "Episode 9: Patisserie\n",
      "Episode 10: Final\n"
     ]
    }
   ],
   "source": [
    "# most common week theme by episode number\n",
    "episode_themes = df.groupby('Episode')['Week'].agg(lambda x: x.mode().iloc[0] if not x.mode().empty else np.nan)\n",
    "print(\"\\nMost common week theme by episode number:\")\n",
    "for episode, theme in episode_themes.items():\n",
    "    print(f\"Episode {episode}: {theme}\")\n",
    "    "
   ]
  },
  {
   "cell_type": "code",
   "execution_count": 72,
   "id": "5db7261e",
   "metadata": {},
   "outputs": [
    {
     "name": "stdout",
     "output_type": "stream",
     "text": [
      "\n",
      "Grouped theme counts (with 'Other' for single occurrences):\n",
      "               Week_grouped  count\n",
      "0                     Other     29\n",
      "1                     Cakes     16\n",
      "2                     Bread     16\n",
      "3                  Biscuits     15\n",
      "4                  Desserts     14\n",
      "5                    Pastry     14\n",
      "6                Patisserie     13\n",
      "7                     Final     13\n",
      "8                 Chocolate      4\n",
      "9                  Puddings      3\n",
      "10                  Caramel      3\n",
      "11                    Tarts      2\n",
      "12                     Pies      2\n",
      "13              Sweet Dough      2\n",
      "14           Pies and Tarts      2\n",
      "15  Alternative Ingredients      2\n",
      "16                Botanical      2\n"
     ]
    }
   ],
   "source": [
    "# Get counts for each theme\n",
    "theme_counts = df['Week'].value_counts().reset_index()\n",
    "theme_counts.columns = ['Week', 'count']\n",
    "\n",
    "\n",
    "# Now, replace any themes that only appear once with 'Other'\n",
    "# (This modifies your main DataFrame, not just the summary)\n",
    "df['Week_grouped'] = df['Week'].apply(lambda x: x if df['Week'].value_counts()[x] > 1 else 'Other')\n",
    "\n",
    "# If you want to re-check the grouped counts:\n",
    "grouped_counts = df['Week_grouped'].value_counts().reset_index()\n",
    "grouped_counts.columns = ['Week_grouped', 'count']\n",
    "\n",
    "print(\"\\nGrouped theme counts (with 'Other' for single occurrences):\")\n",
    "print(grouped_counts)\n"
   ]
  },
  {
   "cell_type": "code",
   "execution_count": null,
   "id": "3978c5d1",
   "metadata": {},
   "outputs": [
    {
     "data": {
      "image/png": "[encoded data removed]",
      "text/plain": [
       "<Figure size 1200x600 with 1 Axes>"
      ]
     },
     "metadata": {},
     "output_type": "display_data"
    }
   ],
   "source": [
    "df['Week_grouped'] = df['Week'].apply(lambda x: x if df['Week'].value_counts()[x] > 1 else 'Other')\n",
    "\n",
    "# Group by episode and the grouped theme\n",
    "theme_counts = df.groupby(['Episode', 'Week_grouped']).size().unstack(fill_value=0)\n",
    "\n",
    "# Plot\n",
    "plt.figure(figsize=(12, 6))\n",
    "theme_counts.plot(kind='bar', stacked=True, ax=plt.gca())\n",
    "\n",
    "plt.title('Distribution of Week Themes Over Episodes', fontsize=14, pad=10)\n",
    "plt.xlabel('Episode', fontsize=12)\n",
    "plt.ylabel('Number of Occurrences', fontsize=12)\n",
    "plt.legend(title='Week Theme', bbox_to_anchor=(1.05, 1), loc='upper left')\n",
    "plt.tight_layout()\n",
    "plt.show()\n"
   ]
  },
  {
   "cell_type": "code",
   "execution_count": null,
   "id": "3b0d297e",
   "metadata": {},
   "outputs": [
    {
     "name": "stdout",
     "output_type": "stream",
     "text": [
      "\n",
      "Most common week theme in Quarter-Finals:\n",
      "Week\n",
      "Desserts    3\n",
      "Name: count, dtype: int64\n",
      "\n",
      "Most common week theme in Semi-Finals:\n",
      "Week\n",
      "Patisserie    12\n",
      "Name: count, dtype: object\n"
     ]
    }
   ],
   "source": [
    "# most common theme for quarter finals and semi finals\n",
    "quarter_finals = df[df['Label'] == 'Quarter-Final']\n",
    "semi_finals = df[df['Label'] == 'Semi-Final']\n",
    "print(\"\\nMost common week theme in Quarter-Finals:\")\n",
    "print(quarter_finals['Week'].value_counts().head(1))\n",
    "print(\"\\nMost common week theme in Semi-Finals:\")\n",
    "print(semi_finals['Week'].value_counts().head(1))"
   ]
  },
  {
   "cell_type": "code",
   "execution_count": 75,
   "id": "1aaf382c",
   "metadata": {},
   "outputs": [
    {
     "name": "stdout",
     "output_type": "stream",
     "text": [
      "Week_grouped\n",
      "Botanical                  100.000000\n",
      "Pies                       100.000000\n",
      "Cakes                       93.750000\n",
      "Final                       92.307692\n",
      "Bread                       87.500000\n",
      "Patisserie                  84.615385\n",
      "Biscuits                    80.000000\n",
      "Caramel                     66.666667\n",
      "Sweet Dough                 50.000000\n",
      "Pies and Tarts              50.000000\n",
      "Alternative Ingredients     50.000000\n",
      "Chocolate                   50.000000\n",
      "Tarts                       50.000000\n",
      "Pastry                      35.714286\n",
      "Desserts                    35.714286\n",
      "Puddings                    33.333333\n",
      "Other                       24.137931\n",
      "Name: Episode, dtype: float64\n"
     ]
    }
   ],
   "source": [
    "# Measure consistency of each theme by episode placement\n",
    "consistency = (\n",
    "    df.groupby('Week_grouped')['Episode']\n",
    "      .apply(lambda x: x.value_counts(normalize=True).max() * 100)\n",
    "      .sort_values(ascending=False)\n",
    ")\n",
    "\n",
    "print(consistency)\n"
   ]
  }
 ],
 "metadata": {
  "kernelspec": {
   "display_name": ".venv",
   "language": "python",
   "name": "python3"
  },
  "language_info": {
   "codemirror_mode": {
    "name": "ipython",
    "version": 3
   },
   "file_extension": ".py",
   "mimetype": "text/x-python",
   "name": "python",
   "nbconvert_exporter": "python",
   "pygments_lexer": "ipython3",
   "version": "3.13.2"
  }
 },
 "nbformat": 4,
 "nbformat_minor": 5
}
